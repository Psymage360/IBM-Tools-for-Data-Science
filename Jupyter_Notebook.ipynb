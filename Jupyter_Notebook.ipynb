{
 "cells": [
  {
   "cell_type": "markdown",
   "metadata": {},
   "source": [
    "<center>\n",
    "    <img src=\"https://cf-courses-data.s3.us.cloud-object-storage.appdomain.cloud/IBMDeveloperSkillsNetwork-DS0105EN-SkillsNetwork/labs/Module2/images/SN_web_lightmode.png\" width=\"300\" alt=\"cognitiveclass.ai logo\">\n",
    "</center>\n"
   ]
  },
  {
   "cell_type": "markdown",
   "metadata": {},
   "source": [
    "#### Add your code below following the instructions given in the course\n"
   ]
  },
  {
   "cell_type": "markdown",
   "metadata": {},
   "source": [
    "<h1>My Jupyter Notebook on IBM Watson Studio</h1>"
   ]
  },
  {
   "cell_type": "markdown",
   "metadata": {},
   "source": [
    "<b>Ayush Chaudhary </b><br>Data Scientist\n",
    "<br>\n",
    "<br>\n",
    "<i>I am intereseted in data science because I am fascinated by the insights that can be gleaned from large datasets. I enjoy the challenge of analyzing and interpreting complex data. Data science offers endless opportunities to learn and apply new techniques to solve real-world problems.</i>\n",
    "<br>\n",
    "<br>"
   ]
  },
  {
   "cell_type": "markdown",
   "metadata": {},
   "source": [
    "### Here is a list of data science languages\n",
    "\n",
    "- Python\n",
    "- Java\n",
    "- Javascript\n",
    "- SQL\n",
    "- R"
   ]
  },
  {
   "cell_type": "markdown",
   "metadata": {},
   "source": [
    "### Here is a list of data science libraries\n",
    "\n",
    "1. TensorFlow\n",
    "2. SciPy\n",
    "3. NumPy\n",
    "4. Pandas\n",
    "5. Matplotlib\n",
    "6. Keras\n",
    "7. Scikit-learn\n",
    "8. PyTorch\n",
    "9. Scrapy\n",
    "10. BeautifulSoup"
   ]
  },
  {
   "cell_type": "markdown",
   "metadata": {},
   "source": [
    "### Table of tools and their description\n",
    "\n",
    "| Tool             | Description                                                                                         |\n",
    "|------------------|-----------------------------------------------------------------------------------------------------|\n",
    "| Python           | A popular programming language for data science, with a rich set of libraries for data analysis     |\n",
    "| R                | Another popular programming language for data science, with a focus on statistical computing       |\n",
    "| SQL              | A database query language used for managing and analyzing data stored in relational databases       |\n",
    "| Tableau          | A powerful data visualization tool that allows for the creation of interactive dashboards          |\n",
    "| Power BI         | Microsoft's data visualization tool that integrates with Excel and other Microsoft products       |\n",
    "| Excel            | A spreadsheet program that can be used for data analysis and visualization                         |\n",
    "| Jupyter Notebook | An open-source application, allows for data analysis and visualization in many languages |\n",
    "| Apache Spark     | An open-source big data processing framework that allows for distributed computing                 |\n",
    "| TensorFlow       | A popular open-source machine learning library for building and training neural networks            |\n",
    "| PyTorch          | An open-source machine learning library that provides a flexible way to build and train models     |\n",
    "| Scikit-learn     | A popular open-source machine learning library for data preprocessing, modeling, and evaluation     |\n"
   ]
  },
  {
   "cell_type": "markdown",
   "metadata": {},
   "source": [
    "# Arithmetic Expression Examples\n",
    "\n",
    "Arithmetic expressions are mathematical statements that use mathematical operators like addition, subtraction, multiplication, and division to perform calculations. Here are some examples of arithmetic expressions:\n",
    "\n",
    "## Addition\n",
    "\n",
    "Addition is the process of combining two or more numbers to get a total. For example:\n",
    "\n",
    "- `2 + 2 = 4`\n",
    "\n",
    "## Subtraction\n",
    "\n",
    "Subtraction is the process of finding the difference between two numbers. For example:\n",
    "\n",
    "- `5 - 3 = 2`\n",
    "\n",
    "## Multiplication\n",
    "\n",
    "Multiplication is the process of repeated addition. For example:\n",
    "\n",
    "- `2 * 3 = 6`\n",
    "\n",
    "## Division\n",
    "\n",
    "Division is the process of splitting a number into equal parts. For example:\n",
    "\n",
    "- `6 / 2 = 3`"
   ]
  },
  {
   "cell_type": "code",
   "execution_count": 1,
   "metadata": {
    "scrolled": true
   },
   "outputs": [
    {
     "name": "stdout",
     "output_type": "stream",
     "text": [
      "The product of 44 and 37 is 1628\n",
      "The sum of 11 and 71 is 82\n"
     ]
    }
   ],
   "source": [
    "# Multiplication\n",
    "num1 = 44\n",
    "num2 = 37\n",
    "product = num1 * num2\n",
    "print(f\"The product of {num1} and {num2} is {product}\")\n",
    "\n",
    "# Addition\n",
    "num3 = 11\n",
    "num4 = 71\n",
    "sum = num3 + num4\n",
    "print(f\"The sum of {num3} and {num4} is {sum}\")\n",
    "\n",
    "# The product of 44 and 37 is 1628\n",
    "# The sum of 11 and 71 is 82\n"
   ]
  },
  {
   "cell_type": "code",
   "execution_count": 9,
   "metadata": {},
   "outputs": [
    {
     "name": "stdout",
     "output_type": "stream",
     "text": [
      "125 minutes is equal to 2.0 hours and 5 minutes\n"
     ]
    }
   ],
   "source": [
    "# Define the number of minutes\n",
    "minutes = 125\n",
    "\n",
    "# Convert remaining minutes\n",
    "mins = minutes%60\n",
    "\n",
    "# Convert minutes to hours\n",
    "hours = (minutes-mins) / 60\n",
    "\n",
    "# Print the result\n",
    "print(f\"{minutes} minutes is equal to {hours} hours and {mins} minutes\")\n",
    "\n",
    "# 125 minutes is equal to 2.0 hours and 5 minutes"
   ]
  },
  {
   "cell_type": "markdown",
   "metadata": {},
   "source": [
    "## Objectives of the Code\n",
    "\n",
    "1. To convert a given number of minutes to hours using integer division and modulus operations.\n",
    "2. To handle cases where the number of minutes is greater than or equal to 60 and output the equivalent number of hours and minutes.\n",
    "3. To validate input values to ensure that the number of minutes is a non-negative integer.\n",
    "4. To create a user-friendly interface that allows users to input the number of minutes and displays the equivalent number of hours, optionally including any remaining minutes."
   ]
  },
  {
   "cell_type": "markdown",
   "metadata": {},
   "source": [
    "### Author : Ayush Chaudhary"
   ]
  },
  {
   "cell_type": "markdown",
   "metadata": {},
   "source": [
    "# My Favorite Movies\n",
    "\n",
    "Here are some of my favorite movies:\n",
    "\n",
    "1. The Shawshank Redemption\n",
    "2. The Godfather\n",
    "3. The Dark Knight\n",
    "\n",
    "---\n",
    "\n",
    "## Movie Quotes\n",
    "\n",
    "> \"Life moves pretty fast. If you don't stop and look around once in a while, you could miss it.\" - Ferris Bueller's Day Off\n",
    "\n",
    "---\n",
    "\n",
    "## Top Movie Characters\n",
    "\n",
    "| Character     | Movie              |\n",
    "| --------------| ------------------|\n",
    "| Forrest Gump  | Forrest Gump      |\n",
    "| Darth Vader   | Star Wars         |\n",
    "| Indiana Jones | Raiders of the Lost Ark |\n",
    "\n",
    "---\n"
   ]
  },
  {
   "cell_type": "code",
   "execution_count": null,
   "metadata": {},
   "outputs": [],
   "source": []
  }
 ],
 "metadata": {
  "kernelspec": {
   "display_name": "Python 3 (ipykernel)",
   "language": "python",
   "name": "python3"
  },
  "language_info": {
   "codemirror_mode": {
    "name": "ipython",
    "version": 3
   },
   "file_extension": ".py",
   "mimetype": "text/x-python",
   "name": "python",
   "nbconvert_exporter": "python",
   "pygments_lexer": "ipython3",
   "version": "3.9.13"
  }
 },
 "nbformat": 4,
 "nbformat_minor": 4
}
